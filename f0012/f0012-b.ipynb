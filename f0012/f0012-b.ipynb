{
 "cells": [
  {
   "cell_type": "markdown",
   "metadata": {},
   "source": [
    "## Import Libraries"
   ]
  },
  {
   "cell_type": "code",
   "execution_count": null,
   "metadata": {},
   "outputs": [],
   "source": [
    "from multiprocessing import Pool\n",
    "from functools import partial\n",
    "import pandas as pd\n",
    "import os\n",
    "import re\n",
    "import glob\n",
    "import time\n",
    "import warnings\n",
    "warnings.filterwarnings(\"ignore\", category=DeprecationWarning)"
   ]
  },
  {
   "cell_type": "markdown",
   "metadata": {},
   "source": [
    "## Read Config File"
   ]
  },
  {
   "cell_type": "code",
   "execution_count": null,
   "metadata": {},
   "outputs": [],
   "source": [
    "import configparser \n",
    "config = configparser.ConfigParser()\n",
    "config.read('config.ini')\n",
    "ip = config['DEFAULT']['IP']\n",
    "port = config['DEFAULT']['MongoDB-Port']\n",
    "db_name = config['DEFAULT']['DB-Name']\n",
    "contain_string = config['DEFAULT']['Contain-String']\n",
    "output_path = config['DEFAULT']['Output-Path']\n",
    "cpu_number = config['DEFAULT']['CPU-Number']"
   ]
  },
  {
   "cell_type": "markdown",
   "metadata": {},
   "source": [
    "## Connect MongoDB"
   ]
  },
  {
   "cell_type": "code",
   "execution_count": null,
   "metadata": {},
   "outputs": [],
   "source": [
    "from pymongo import MongoClient\n",
    "client = MongoClient(ip, int(port))"
   ]
  },
  {
   "cell_type": "markdown",
   "metadata": {},
   "source": [
    "## Get Collection Name"
   ]
  },
  {
   "cell_type": "code",
   "execution_count": null,
   "metadata": {},
   "outputs": [],
   "source": [
    "# connect to database\n",
    "db = client[db_name]\n",
    "collections_twitter = db.collection_names()"
   ]
  },
  {
   "cell_type": "code",
   "execution_count": null,
   "metadata": {},
   "outputs": [],
   "source": [
    "dic_collection = {}\n",
    "for i in collections_twitter:\n",
    "    if contain_string in i:\n",
    "        dic_collection[i] = \"{:}\".format(db[i].find({}).count())"
   ]
  },
  {
   "cell_type": "markdown",
   "metadata": {},
   "source": [
    "## Pipeline"
   ]
  },
  {
   "cell_type": "code",
   "execution_count": null,
   "metadata": {},
   "outputs": [],
   "source": [
    "# pipeline for aggregation\n",
    "pipeline = [\n",
    "    {\"$match\": { \"entities.hashtags\": {\"$exists\":True,\"$ne\":[]}}},\n",
    "    {\"$match\": { \"lang\" : \"en\"}},\n",
    "    { \"$group\": {\n",
    "        \"_id\": {\n",
    "            \"hashtags\": \"$entities.hashtags\",\n",
    "            \"date\": {\"$substr\": [ \"$created_at\", 4, 6 ]},\n",
    "            \"geoname\": \"$geoname\"\n",
    "        },\n",
    "        \"count\": { \"$sum\": 1 }\n",
    "        }\n",
    "    }\n",
    "]"
   ]
  },
  {
   "cell_type": "markdown",
   "metadata": {},
   "source": [
    "## Supporting Functions"
   ]
  },
  {
   "cell_type": "code",
   "execution_count": null,
   "metadata": {},
   "outputs": [],
   "source": [
    "# check if stringis English\n",
    "def isEnglish(s):\n",
    "    try:\n",
    "        s.encode('ascii')\n",
    "    except UnicodeEncodeError:\n",
    "        return False\n",
    "    else:\n",
    "        return True"
   ]
  },
  {
   "cell_type": "code",
   "execution_count": null,
   "metadata": {},
   "outputs": [],
   "source": [
    "# create foler if not exist\n",
    "def create_folder(output_path):\n",
    "    if not os.path.exists(output_path):\n",
    "        os.makedirs(output_path)"
   ]
  },
  {
   "cell_type": "code",
   "execution_count": null,
   "metadata": {},
   "outputs": [],
   "source": [
    "# delete existed collection from the list dic_collection\n",
    "def delete_collection(output_path,dic_collection):\n",
    "    for input_file in glob.glob(os.path.join(output_path,'*.csv')):\n",
    "        collection_name = re.search(output_path+'(.+?).csv', input_file).group(1)\n",
    "        if collection_name in dic_collection:\n",
    "            print(\"Existed collection: \" + collection_name)\n",
    "            del dic_collection[collection_name]\n",
    "    return dic_collection"
   ]
  },
  {
   "cell_type": "code",
   "execution_count": null,
   "metadata": {},
   "outputs": [],
   "source": [
    "# create data list\n",
    "def create_list(data,year):\n",
    "    hashtags = data[\"_id\"][\"hashtags\"]\n",
    "    date_year = data[\"_id\"][\"date\"] + \" \" + year\n",
    "    if \"geoname\" in data[\"_id\"]:\n",
    "        city = data[\"_id\"][\"geoname\"][\"city\"]\n",
    "        state = data[\"_id\"][\"geoname\"][\"state\"]\n",
    "        country = data[\"_id\"][\"geoname\"][\"country\"]\n",
    "    else:\n",
    "        city = ''\n",
    "        state = ''\n",
    "        country = ''\n",
    "\n",
    "    count = data[\"count\"]        \n",
    "    length = len(hashtags)\n",
    "    data_format=[]\n",
    "    num_delete = 0\n",
    "    for i in range(0,length):\n",
    "        exist = 0\n",
    "        # get hashtag\n",
    "        h = hashtags[i][\"text\"].lower()\n",
    "        # check if it is in English\n",
    "        if isEnglish(h):\n",
    "            hashtag_list = [h,date_year,count,city,state,country]\n",
    "            data_format.append(hashtag_list)\n",
    "        else:\n",
    "            num_delete += 1\n",
    "    return data_format,num_delete"
   ]
  },
  {
   "cell_type": "markdown",
   "metadata": {},
   "source": [
    "## Count the number of hashtag daily"
   ]
  },
  {
   "cell_type": "code",
   "execution_count": null,
   "metadata": {},
   "outputs": [],
   "source": [
    "#create folder if not exist\n",
    "create_folder(output_path)\n",
    "\n",
    "# delete existed collection from the list dic_collection\n",
    "dic_collection = delete_collection(output_path,dic_collection)\n",
    "\n",
    "for collection in sorted(dic_collection):\n",
    "    print(\"-----------------------\\n\")\n",
    "    print(\"Processing on collection: \" + collection)\n",
    "    start = time.time()\n",
    "    \n",
    "    data_format = []\n",
    "    num_delete = []\n",
    "    total_tweet_count = dic_collection[collection]\n",
    "    data_list = list(db[collection].aggregate(pipeline,allowDiskUse=True))\n",
    "    \n",
    "    y = collection[:4]\n",
    "    y_week = \"_\".join(collection.split(\"_\", 2)[:2])\n",
    "    week = y_week.split(\"_W\")[1]\n",
    "    \n",
    "    if len(data_list) > 0:\n",
    "        print(\"Datalist length\",len(data_list))\n",
    "        print(\"Number of using CPU: \" + cpu_number)\n",
    "        pool = Pool(processes=int(cpu_number))   \n",
    "        creat_l=partial(create_list,year = y)\n",
    "        data_format,num_delete = zip(*pool.imap(creat_l,data_list, chunksize=200000))\n",
    "    \n",
    "    # format the list from nested list\n",
    "    data_result = []\n",
    "    for data in data_format:\n",
    "        for i in data:\n",
    "            data_result.append(i)\n",
    "                     \n",
    "    print(\"list is finished\")\n",
    "    print(str(sum(num_delete)) + \" non-English hashtags have been deleted.\")\n",
    "    \n",
    "    column_name = ['hashtag','date','hashtag_count','city','state','country'] \n",
    "    df = pd.DataFrame(data_result,columns=column_name)\n",
    "    \n",
    "    # convert the data typr to string to avoid lossing data after group\n",
    "    df['hashtag'] = df.hashtag.astype(str)\n",
    "    df['date'] = df.date.astype(str)\n",
    "    df['city'] = df.city.astype(str)\n",
    "    df['state'] = df.state.astype(str)\n",
    "    df['country'] = df.country.astype(str)\n",
    "    df['hashtag_count'] = df.hashtag_count.astype(int)\n",
    "\n",
    "    # group the same row and sum it\n",
    "    group_df = df.groupby(['hashtag','date','city','state','country'])['hashtag_count'].sum().reset_index()\n",
    "    group_df[\"non_english_hashtag_count\"] = sum(num_delete)\n",
    "    group_df[\"total_tweet_count\"] = total_tweet_count\n",
    "    group_df[\"week_number\"] = week\n",
    "    \n",
    "    group_df.to_csv(\"{}{}.csv\".format(output_path,collection), sep=',',index = False, encoding='UTF-8')\n",
    "    \n",
    "    print (\"csv file for collection \" + collection + ' is finished.')\n",
    "    end = time.time()\n",
    "    print(\"Time used: \" + str(end-start))\n",
    "    print(\"-----------------------\\n\")"
   ]
  },
  {
   "cell_type": "code",
   "execution_count": null,
   "metadata": {},
   "outputs": [],
   "source": []
  }
 ],
 "metadata": {
  "kernelspec": {
   "display_name": "Python 3",
   "language": "python",
   "name": "python3"
  },
  "language_info": {
   "codemirror_mode": {
    "name": "ipython",
    "version": 3
   },
   "file_extension": ".py",
   "mimetype": "text/x-python",
   "name": "python",
   "nbconvert_exporter": "python",
   "pygments_lexer": "ipython3",
   "version": "3.7.4"
  }
 },
 "nbformat": 4,
 "nbformat_minor": 2
}
