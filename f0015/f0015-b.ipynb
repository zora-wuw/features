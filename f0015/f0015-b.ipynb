{
 "cells": [
  {
   "cell_type": "markdown",
   "metadata": {},
   "source": [
    "## Import Libraries"
   ]
  },
  {
   "cell_type": "code",
   "execution_count": 1,
   "metadata": {},
   "outputs": [],
   "source": [
    "import csv\n",
    "import warnings\n",
    "warnings.filterwarnings(\"ignore\", category=DeprecationWarning)"
   ]
  },
  {
   "cell_type": "markdown",
   "metadata": {},
   "source": [
    "## Read Config File"
   ]
  },
  {
   "cell_type": "code",
   "execution_count": 2,
   "metadata": {},
   "outputs": [],
   "source": [
    "import configparser \n",
    "config = configparser.ConfigParser()\n",
    "config.read('config.ini')\n",
    "ip = config['DEFAULT']['IP']\n",
    "port = config['DEFAULT']['MongoDB-Port']\n",
    "db_name = config['DEFAULT']['DB-Name']\n",
    "contain_string = config['DEFAULT']['Contain-String']\n",
    "au_geo_file = config['DEFAULT']['AU-Geo-File']\n",
    "world_geo_file = config['DEFAULT']['World-Geo-File']"
   ]
  },
  {
   "cell_type": "markdown",
   "metadata": {},
   "source": [
    "## Connect MongoDB"
   ]
  },
  {
   "cell_type": "code",
   "execution_count": 3,
   "metadata": {},
   "outputs": [],
   "source": [
    "import pymongo\n",
    "from pymongo import MongoClient\n",
    "client = MongoClient(ip, int(port))\n",
    "db = client[db_name]"
   ]
  },
  {
   "cell_type": "markdown",
   "metadata": {},
   "source": [
    "## Get Collections list"
   ]
  },
  {
   "cell_type": "code",
   "execution_count": 4,
   "metadata": {},
   "outputs": [],
   "source": [
    "collection_name_list = db.collection_names()\n",
    "collections_list = ['2023_W2_Twitter_Other']\n",
    "\n",
    "# for i in collection_name_list:\n",
    "#     if contain_string in i:\n",
    "#         collections_list.append(i)\n",
    "        \n",
    "collections_list.sort()"
   ]
  },
  {
   "cell_type": "markdown",
   "metadata": {},
   "source": [
    "## Supporting Functions"
   ]
  },
  {
   "cell_type": "code",
   "execution_count": 7,
   "metadata": {},
   "outputs": [],
   "source": [
    "def get_geo_dic(file):\n",
    "    geo_dic = {}\n",
    "    with open(file, mode='r') as infile:\n",
    "        reader = csv.reader(infile)\n",
    "        for index, row in enumerate(reader):\n",
    "            if index > 0:\n",
    "                try:\n",
    "#                     geo_dic[row[0]] = {\"city\":row[1],\"state\":row[2],\"country\":row[3]}\n",
    "                    geo_dic[row[0]] = [row[1],row[2],row[3]]\n",
    "                except Exception as e:\n",
    "#                     print(\"----------------------\")\n",
    "#                     print(\"Error message: {}\".format(e))\n",
    "#                     print(\"Error row: {}\".format(row))\n",
    "                    pass\n",
    "    return geo_dic"
   ]
  },
  {
   "cell_type": "code",
   "execution_count": 8,
   "metadata": {},
   "outputs": [],
   "source": [
    "def insert_geoname(db,collection,geo_dic):\n",
    "    for i in db[collection].find({'user.location':{'$exists':'true'}}):\n",
    "        uloc = i[\"user\"][\"location\"]\n",
    "        if (i[\"lang\"] == \"en\") and (uloc is not None):\n",
    "            try:\n",
    "                if geo_dic[uloc] != [\"\",\"\",\"\"]:\n",
    "#                     db[collection].update({\"_id\": i[\"_id\"]}, {\"$set\": {\"geoname\": geo_dic[uloc]}})\n",
    "                    db[collection].update({\"_id\": i[\"_id\"]}, {\"$set\": {\"geoname\": {\"city\":geo_dic[uloc][0],\"state\":geo_dic[uloc][1],\"country\":geo_dic[uloc][2]}}})  \n",
    "            except:\n",
    "#                 print(uloc)\n",
    "                pass\n"
   ]
  },
  {
   "cell_type": "markdown",
   "metadata": {},
   "source": [
    "## Get Geoname Dictionary (Australia & Other)"
   ]
  },
  {
   "cell_type": "code",
   "execution_count": 9,
   "metadata": {},
   "outputs": [],
   "source": [
    "print(\"starting reading files\")\n",
    "au_geo_dic = get_geo_dic(au_geo_file)\n",
    "world_geo_dic = get_geo_dic(world_geo_file)\n",
    "print(\"reading files finished.\")"
   ]
  },
  {
   "cell_type": "markdown",
   "metadata": {},
   "source": [
    "## Insert Geoname in MongoDB"
   ]
  },
  {
   "cell_type": "code",
   "execution_count": 11,
   "metadata": {},
   "outputs": [
    {
     "name": "stdout",
     "output_type": "stream",
     "text": [
      "41.65339493751526\n"
     ]
    }
   ],
   "source": [
    "# insert one by one\n",
    "print(\"collection list: {}\".format(collections_list))\n",
    "for collection in collections_list:\n",
    "    print(\"processing collection: {}\".format(collection))\n",
    "    if \"Australia\" in collection:\n",
    "        insert_geoname(db,collection,au_geo_dic)\n",
    "    else:\n",
    "        insert_geoname(db,collection,world_geo_dic)\n",
    "    print(\"Insertion for \" + collection + \" is finished\")"
   ]
  }
 ],
 "metadata": {
  "kernelspec": {
   "display_name": "Python 3",
   "language": "python",
   "name": "python3"
  },
  "language_info": {
   "codemirror_mode": {
    "name": "ipython",
    "version": 3
   },
   "file_extension": ".py",
   "mimetype": "text/x-python",
   "name": "python",
   "nbconvert_exporter": "python",
   "pygments_lexer": "ipython3",
   "version": "3.6.6"
  },
  "toc": {
   "base_numbering": 1,
   "nav_menu": {},
   "number_sections": true,
   "sideBar": true,
   "skip_h1_title": false,
   "title_cell": "Table of Contents",
   "title_sidebar": "Contents",
   "toc_cell": false,
   "toc_position": {},
   "toc_section_display": true,
   "toc_window_display": false
  },
  "varInspector": {
   "cols": {
    "lenName": 16,
    "lenType": 16,
    "lenVar": 40
   },
   "kernels_config": {
    "python": {
     "delete_cmd_postfix": "",
     "delete_cmd_prefix": "del ",
     "library": "var_list.py",
     "varRefreshCmd": "print(var_dic_list())"
    },
    "r": {
     "delete_cmd_postfix": ") ",
     "delete_cmd_prefix": "rm(",
     "library": "var_list.r",
     "varRefreshCmd": "cat(var_dic_list()) "
    }
   },
   "types_to_exclude": [
    "module",
    "function",
    "builtin_function_or_method",
    "instance",
    "_Feature"
   ],
   "window_display": false
  }
 },
 "nbformat": 4,
 "nbformat_minor": 2
}
