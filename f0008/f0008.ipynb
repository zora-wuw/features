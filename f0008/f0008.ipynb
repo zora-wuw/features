{
 "cells": [
  {
   "cell_type": "code",
   "execution_count": 23,
   "metadata": {},
   "outputs": [],
   "source": [
    "import time\n",
    "from datetime import datetime,timezone\n",
    "import pandas as pd\n",
    "import os\n",
    "import warnings\n",
    "warnings.filterwarnings(\"ignore\", category=DeprecationWarning)"
   ]
  },
  {
   "cell_type": "markdown",
   "metadata": {},
   "source": [
    "## Read Config File"
   ]
  },
  {
   "cell_type": "code",
   "execution_count": null,
   "metadata": {},
   "outputs": [],
   "source": [
    "import configparser \n",
    "config = configparser.ConfigParser()\n",
    "config.read('config.ini')\n",
    "ip = config['DEFAULT']['IP']\n",
    "port = config['DEFAULT']['MongoDB-Port']\n",
    "slack_token = config['DEFAULT']['Slack-Token']\n",
    "channel = config['DEFAULT']['Channel']\n",
    "file_path = config['DEFAULT']['File-Path']\n",
    "log_file_path = config['DEFAULT']['Log-File-Path']\n",
    "out_folder = config['DEFAULT']['Out-Folder']"
   ]
  },
  {
   "cell_type": "markdown",
   "metadata": {},
   "source": [
    "## Connect MongoDB"
   ]
  },
  {
   "cell_type": "code",
   "execution_count": null,
   "metadata": {},
   "outputs": [],
   "source": [
    "import pymongo\n",
    "from pymongo import MongoClient\n",
    "client = MongoClient(ip, int(port))"
   ]
  },
  {
   "cell_type": "markdown",
   "metadata": {},
   "source": [
    "## Connect Slack"
   ]
  },
  {
   "cell_type": "code",
   "execution_count": null,
   "metadata": {},
   "outputs": [],
   "source": [
    "from slacker import Slacker\n",
    "slack = Slacker(slack_token)"
   ]
  },
  {
   "cell_type": "markdown",
   "metadata": {},
   "source": [
    "## Supporting Functions"
   ]
  },
  {
   "cell_type": "code",
   "execution_count": null,
   "metadata": {},
   "outputs": [],
   "source": [
    "def connect_database(client,slack):\n",
    "    # connect to database\n",
    "    db_twitter = client[\"Twitter\"]\n",
    "    collections_twitter = db_twitter.collection_names()\n",
    "    return db_twitter, collections_twitter"
   ]
  },
  {
   "cell_type": "code",
   "execution_count": 28,
   "metadata": {},
   "outputs": [],
   "source": [
    "def current_year_week():\n",
    "    try:\n",
    "        # # get refrence timestamp list for each year\n",
    "        # year_timestamp_df = pd.read_csv(\"year_timestamp.csv\", header = None, encoding = \"UTF-8\",dtype = int)\n",
    "        # year_list = year_timestamp_df[0].tolist()\n",
    "        # year_timestamp_list = year_timestamp_df[1].tolist()\n",
    "\n",
    "        # # get current year and current week number\n",
    "        # current_timestamp = int(datetime.now(timezone.utc).timestamp() * 1000)\n",
    "        # current_year = int(datetime.now(timezone.utc).year)\n",
    "        # year_index = year_list.index(current_year)\n",
    "        # ref_timestamp = year_timestamp_list[year_index]\n",
    "        # if current_timestamp < ref_timestamp:\n",
    "        #     ref_timestamp = year_timestamp_list[year_index-1]    \n",
    "        # else:\n",
    "        #     if current_timestamp >= year_timestamp_list[year_index+1]:\n",
    "        #         ref_timestamp = year_timestamp_list[year_index+1]\n",
    "        #         current_year = current_year + 1\n",
    "        current_year = datetime.utcnow().isocalendar()[0]\n",
    "        current_week = datetime.utcnow().isocalendar()[1]\n",
    "        print(\"current year : \" + str(current_year))\n",
    "        print(\"current week : \" + str(current_week))\n",
    "        return current_year, current_week\n",
    "    except Exception as e:\n",
    "        slack.chat.post_message(channel,\"NiFi Machine: {}\".format(e))"
   ]
  },
  {
   "cell_type": "code",
   "execution_count": null,
   "metadata": {},
   "outputs": [],
   "source": [
    "# create foler if not exist\n",
    "def create_folder(folder):\n",
    "    if not os.path.exists(folder):\n",
    "        os.makedirs(folder)"
   ]
  },
  {
   "cell_type": "code",
   "execution_count": null,
   "metadata": {},
   "outputs": [],
   "source": [
    "def get_lastest_number(db_twitter,collections_twitter,current_year,current_week):\n",
    "    w = \"W\"+str(current_week)\n",
    "    dic_collection = {}\n",
    "    for i in collections_twitter:\n",
    "        if i.startswith(str(current_year)) and w in i:\n",
    "            dic_collection[i] = \"{:}\".format(db_twitter[i].find({}).count())\n",
    "    return dic_collection"
   ]
  },
  {
   "cell_type": "code",
   "execution_count": null,
   "metadata": {},
   "outputs": [],
   "source": [
    "def read_file(file_path):\n",
    "    with open(file_path,\"a+\") as input_file:\n",
    "        # back to first line\n",
    "        input_file.seek(0)\n",
    "        line = input_file.readlines()\n",
    "    return line"
   ]
  },
  {
   "cell_type": "code",
   "execution_count": null,
   "metadata": {},
   "outputs": [],
   "source": [
    "def get_old_number(line):\n",
    "    old_dic_collection = {}\n",
    "    for i in line:\n",
    "        i = i.replace(\"\\n\",\"\")\n",
    "        collection_name = i.split(\":\")[0]\n",
    "        document_number = i.split(\":\")[1]\n",
    "        old_dic_collection[collection_name] = \"{:}\".format(document_number)\n",
    "    return old_dic_collection"
   ]
  },
  {
   "cell_type": "code",
   "execution_count": null,
   "metadata": {},
   "outputs": [],
   "source": [
    "def send_msg_slack(dic_collection,old_dic_collection,slack):\n",
    "    for collection in dic_collection:\n",
    "        if collection in old_dic_collection:\n",
    "            if int(dic_collection[collection]) == int(old_dic_collection[collection]):  \n",
    "                # bold message\n",
    "                message = \"[\" + collection + \"] is the same last run: \" + '\\033[1m' + dic_collection[collection] + '\\033[0m'\n",
    "                slack.chat.post_message(channel,message)\n",
    "            elif int(dic_collection[collection]) < int(old_dic_collection[collection]):  \n",
    "                # bold message\n",
    "                message = \"[\" + collection + \"] is reduced last run: \" + '\\033[1m' + dic_collection[collection] + '\\033[0m'\n",
    "                slack.chat.post_message(channel,message)\n",
    "                "
   ]
  },
  {
   "cell_type": "code",
   "execution_count": null,
   "metadata": {},
   "outputs": [],
   "source": [
    "def write_file(dic_collection, file_path):\n",
    "    with open(file_path,\"w+\") as output_file:\n",
    "        for key in sorted(dic_collection): \n",
    "            output_file.write(\"%s: %s\" % (key, dic_collection[key])+\"\\n\") \n",
    "    print(\"The result file is ready.\")"
   ]
  },
  {
   "cell_type": "code",
   "execution_count": null,
   "metadata": {},
   "outputs": [],
   "source": [
    "def write_log_file(dic_collection, log_file_path):\n",
    "    with open(log_file_path,\"a+\") as output_file:\n",
    "        output_file.write(\"---------------------------\"+\"\\n\")\n",
    "        output_file.write(str(datetime.datetime.now())+\"\\n\")\n",
    "        for key in sorted(dic_collection): \n",
    "            output_file.write(\"%s: %s\" % (key, dic_collection[key])+\"\\n\") \n",
    "    print(\"The log file is ready.\")"
   ]
  },
  {
   "cell_type": "markdown",
   "metadata": {},
   "source": [
    "## Monitor NIFI"
   ]
  },
  {
   "cell_type": "code",
   "execution_count": null,
   "metadata": {},
   "outputs": [],
   "source": [
    "create_folder(out_folder)\n",
    "\n",
    "try:\n",
    "    db_twitter, collections_twitter = connect_database(client,slack)\n",
    "except Exception as e:\n",
    "    slack.chat.post_message(channel,\"NiFi Machine: {}\".format(e))\n",
    "    with open(log_file_path,\"a+\") as output_file:\n",
    "        output_file.write(\"---------------------------\"+\"\\n\")\n",
    "        output_file.write(str(datetime.datetime.now())+\"\\n\")\n",
    "        output_file.write(str(e) + \"\\n\")\n",
    "    raise\n",
    "else:\n",
    "    current_year, current_week = current_year_week()\n",
    "    #compare the record number\n",
    "    dic_collection = get_lastest_number(db_twitter,collections_twitter,current_year,current_week)\n",
    "    line = read_file(file_path)\n",
    "    old_dic_collection = get_old_number(line)\n",
    "    # send message to slack\n",
    "    send_msg_slack(dic_collection,old_dic_collection,slack)\n",
    "    # write into output file\n",
    "    write_file(dic_collection, file_path)  \n",
    "    write_log_file(dic_collection, log_file_path)"
   ]
  },
  {
   "cell_type": "code",
   "execution_count": null,
   "metadata": {},
   "outputs": [],
   "source": []
  }
 ],
 "metadata": {
  "kernelspec": {
   "display_name": "base",
   "language": "python",
   "name": "python3"
  },
  "language_info": {
   "codemirror_mode": {
    "name": "ipython",
    "version": 3
   },
   "file_extension": ".py",
   "mimetype": "text/x-python",
   "name": "python",
   "nbconvert_exporter": "python",
   "pygments_lexer": "ipython3",
   "version": "3.7.4"
  },
  "toc": {
   "base_numbering": 1,
   "nav_menu": {},
   "number_sections": true,
   "sideBar": true,
   "skip_h1_title": false,
   "title_cell": "Table of Contents",
   "title_sidebar": "Contents",
   "toc_cell": false,
   "toc_position": {},
   "toc_section_display": true,
   "toc_window_display": false
  },
  "varInspector": {
   "cols": {
    "lenName": 16,
    "lenType": 16,
    "lenVar": 40
   },
   "kernels_config": {
    "python": {
     "delete_cmd_postfix": "",
     "delete_cmd_prefix": "del ",
     "library": "var_list.py",
     "varRefreshCmd": "print(var_dic_list())"
    },
    "r": {
     "delete_cmd_postfix": ") ",
     "delete_cmd_prefix": "rm(",
     "library": "var_list.r",
     "varRefreshCmd": "cat(var_dic_list()) "
    }
   },
   "types_to_exclude": [
    "module",
    "function",
    "builtin_function_or_method",
    "instance",
    "_Feature"
   ],
   "window_display": false
  },
  "vscode": {
   "interpreter": {
    "hash": "c4f5d7df9eebeb2fce5c7cb4fadb86274017838dfb7de8d5dd5849e5abb02796"
   }
  }
 },
 "nbformat": 4,
 "nbformat_minor": 2
}
